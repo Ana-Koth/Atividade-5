{
 "cells": [
  {
   "cell_type": "code",
   "execution_count": 23,
   "id": "3c9c728a",
   "metadata": {},
   "outputs": [
    {
     "ename": "IndentationError",
     "evalue": "unindent does not match any outer indentation level (<string>, line 42)",
     "output_type": "error",
     "traceback": [
      "\u001b[1;36m  File \u001b[1;32m<string>:42\u001b[1;36m\u001b[0m\n\u001b[1;33m    plt.plot(tn, v, label='Velocidade')\u001b[0m\n\u001b[1;37m                                       ^\u001b[0m\n\u001b[1;31mIndentationError\u001b[0m\u001b[1;31m:\u001b[0m unindent does not match any outer indentation level\n"
     ]
    }
   ],
   "source": [
    "import numpy as np\n",
    "import matplotlib.pyplot as plt\n",
    "\n",
    "#v' = -g - (b/m)*v * \\delta t\n",
    "\n",
    "def metodo_euler(g,b,m,v0):\n",
    "    ''' Método de Euler para resolver a equação diferencial do movimento de um corpo em queda livre \n",
    "\n",
    "    args:\n",
    "        dt (float): passo de tempo\n",
    "        g (float): aceleração da gravidade\n",
    "        b (float): coeficiente de arrasto\n",
    "        m (float): massa do corpo\n",
    "        v0 (float): velocidade inicial\n",
    "        t (float): tempo total de simulação\n",
    "    \n",
    "    Returns:\n",
    "        t (ndarray): vetor de tempo\n",
    "        v (ndarray): vetor de velocidade\n",
    "        x (ndarray): vetor de posição\n",
    "\n",
    "    '''\n",
    "    # Inicializa os vetores de tempo, velocidade e posição\n",
    "    b = 0.1\n",
    "    m = 1.0\n",
    "    g = 9.80\n",
    "    \n",
    "    tn = np.array([0]*len(t))\n",
    "    v = np.array([0.0]*len(t))   \n",
    "    \n",
    "    # Define a velocidade inicial\n",
    "    v[0] = v0\n",
    "\n",
    "    # Loop de Euler\n",
    "    for i in range(1, len(t)):\n",
    "        # Atualiza a velocidade e a posição usando o método de Euler\n",
    "        v[i] = v[i-1] - (g + (b/m)*v[i-1]) * dt\n",
    "        tn = i*dt\n",
    "        t[i] = tn\n",
    "    return t, v\n",
    "\n",
    " plt.plot(tn, v, label='Velocidade')\n",
    " plt.show()\n",
    "\n",
    "\n",
    "\n",
    "metodo_euler(9.8, 0.1, 1.0, 0.0)\n",
    "# Plota os resultados\n",
    "\n"
   ]
  }
 ],
 "metadata": {
  "kernelspec": {
   "display_name": "FisComp",
   "language": "python",
   "name": "python3"
  },
  "language_info": {
   "codemirror_mode": {
    "name": "ipython",
    "version": 3
   },
   "file_extension": ".py",
   "mimetype": "text/x-python",
   "name": "python",
   "nbconvert_exporter": "python",
   "pygments_lexer": "ipython3",
   "version": "3.13.2"
  }
 },
 "nbformat": 4,
 "nbformat_minor": 5
}
